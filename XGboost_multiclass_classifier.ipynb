{
  "nbformat": 4,
  "nbformat_minor": 0,
  "metadata": {
    "colab": {
      "provenance": []
    },
    "kernelspec": {
      "name": "python3",
      "display_name": "Python 3"
    },
    "language_info": {
      "name": "python"
    }
  },
  "cells": [
    {
      "cell_type": "code",
      "execution_count": 1,
      "metadata": {
        "colab": {
          "base_uri": "https://localhost:8080/"
        },
        "id": "Bp8UxoOVSlB7",
        "outputId": "68d9c3e1-1f3e-47f4-94b9-2b2daf65a912"
      },
      "outputs": [
        {
          "output_type": "stream",
          "name": "stdout",
          "text": [
            "Collecting ucimlrepo\n",
            "  Downloading ucimlrepo-0.0.7-py3-none-any.whl.metadata (5.5 kB)\n",
            "Requirement already satisfied: pandas>=1.0.0 in /usr/local/lib/python3.10/dist-packages (from ucimlrepo) (2.1.4)\n",
            "Requirement already satisfied: certifi>=2020.12.5 in /usr/local/lib/python3.10/dist-packages (from ucimlrepo) (2024.7.4)\n",
            "Requirement already satisfied: numpy<2,>=1.22.4 in /usr/local/lib/python3.10/dist-packages (from pandas>=1.0.0->ucimlrepo) (1.26.4)\n",
            "Requirement already satisfied: python-dateutil>=2.8.2 in /usr/local/lib/python3.10/dist-packages (from pandas>=1.0.0->ucimlrepo) (2.8.2)\n",
            "Requirement already satisfied: pytz>=2020.1 in /usr/local/lib/python3.10/dist-packages (from pandas>=1.0.0->ucimlrepo) (2024.1)\n",
            "Requirement already satisfied: tzdata>=2022.1 in /usr/local/lib/python3.10/dist-packages (from pandas>=1.0.0->ucimlrepo) (2024.1)\n",
            "Requirement already satisfied: six>=1.5 in /usr/local/lib/python3.10/dist-packages (from python-dateutil>=2.8.2->pandas>=1.0.0->ucimlrepo) (1.16.0)\n",
            "Downloading ucimlrepo-0.0.7-py3-none-any.whl (8.0 kB)\n",
            "Installing collected packages: ucimlrepo\n",
            "Successfully installed ucimlrepo-0.0.7\n"
          ]
        }
      ],
      "source": [
        "!pip install ucimlrepo"
      ]
    },
    {
      "cell_type": "code",
      "source": [
        "!pip install bayesian-optimization"
      ],
      "metadata": {
        "colab": {
          "base_uri": "https://localhost:8080/"
        },
        "id": "XCTiwQ9ET1l6",
        "outputId": "8f41e552-6f8c-4114-c45c-c61ec08b4e56"
      },
      "execution_count": 2,
      "outputs": [
        {
          "output_type": "stream",
          "name": "stdout",
          "text": [
            "Collecting bayesian-optimization\n",
            "  Downloading bayesian_optimization-1.5.1-py3-none-any.whl.metadata (16 kB)\n",
            "Collecting colorama<0.5.0,>=0.4.6 (from bayesian-optimization)\n",
            "  Downloading colorama-0.4.6-py2.py3-none-any.whl.metadata (17 kB)\n",
            "Requirement already satisfied: numpy>=1.25 in /usr/local/lib/python3.10/dist-packages (from bayesian-optimization) (1.26.4)\n",
            "Requirement already satisfied: scikit-learn<2.0.0,>=1.0.0 in /usr/local/lib/python3.10/dist-packages (from bayesian-optimization) (1.3.2)\n",
            "Requirement already satisfied: scipy<2.0.0,>=1.0.0 in /usr/local/lib/python3.10/dist-packages (from bayesian-optimization) (1.13.1)\n",
            "Requirement already satisfied: joblib>=1.1.1 in /usr/local/lib/python3.10/dist-packages (from scikit-learn<2.0.0,>=1.0.0->bayesian-optimization) (1.4.2)\n",
            "Requirement already satisfied: threadpoolctl>=2.0.0 in /usr/local/lib/python3.10/dist-packages (from scikit-learn<2.0.0,>=1.0.0->bayesian-optimization) (3.5.0)\n",
            "Downloading bayesian_optimization-1.5.1-py3-none-any.whl (28 kB)\n",
            "Downloading colorama-0.4.6-py2.py3-none-any.whl (25 kB)\n",
            "Installing collected packages: colorama, bayesian-optimization\n",
            "Successfully installed bayesian-optimization-1.5.1 colorama-0.4.6\n"
          ]
        }
      ]
    },
    {
      "cell_type": "code",
      "source": [
        "# importar datos\n",
        "from ucimlrepo import fetch_ucirepo\n",
        "\n",
        "# obtener datos\n",
        "dermatology = fetch_ucirepo(id=33)\n",
        "\n",
        "# datos como dataframe\n",
        "X = dermatology.data.features\n",
        "y = dermatology.data.targets"
      ],
      "metadata": {
        "id": "vE7dgQFrUN3U"
      },
      "execution_count": 4,
      "outputs": []
    },
    {
      "cell_type": "markdown",
      "source": [
        "Esta base de datos contiene 34 atributos, 33 de los cuales tienen valores lineales y uno de ellos es nominal.\n",
        "\n",
        "El diagnóstico diferencial de las enfermedades eritematoescamosas es un verdadero problema en dermatología. Todas ellas comparten las características clínicas del eritema y la descamación, con muy pocas diferencias. Las enfermedades de este grupo son la psoriasis, la dermatitis seborreica, el liquen plano, la pitiriasis rosada, la dermatitis crónica y la pitiriasis rubra pilaris. Por lo general, es necesaria una biopsia para el diagnóstico, pero lamentablemente estas enfermedades también comparten muchas características histopatológicas. Otra dificultad para el diagnóstico diferencial es que una enfermedad puede mostrar las características de otra enfermedad en la etapa inicial y puede tener las características características en las etapas siguientes. Los pacientes fueron evaluados clínicamente en primer lugar con 12 características. Después, se tomaron muestras de piel para la evaluación de 22 características histopatológicas. Los valores de las características histopatológicas se determinan mediante un análisis de las muestras bajo un microscopio.\n",
        "\n",
        "En el conjunto de datos construido para este dominio, la característica de antecedentes familiares tiene el valor 1 si se ha observado alguna de estas enfermedades en la familia y 0 en caso contrario. La característica de edad simplemente representa la edad del paciente. A todas las demás características (clínicas e histopatológicas) se les asignó un grado en el rango de 0 a 3. Aquí, 0 indica que la característica no estaba presente, 3 indica la mayor cantidad posible y 1, 2 indican los valores intermedios relativos.\n",
        "\n",
        "Los nombres y números de identificación de los pacientes se eliminaron recientemente de la base de datos."
      ],
      "metadata": {
        "id": "czta2isoU_f8"
      }
    },
    {
      "cell_type": "markdown",
      "source": [
        "##Modelo inicial"
      ],
      "metadata": {
        "id": "3XlCARNZUHrD"
      }
    },
    {
      "cell_type": "code",
      "source": [
        "# Importar las bibliotecas necesarias\n",
        "import pandas as pd\n",
        "from sklearn.model_selection import train_test_split\n",
        "from sklearn.preprocessing import StandardScaler\n",
        "from xgboost import XGBClassifier\n",
        "from sklearn.metrics import classification_report, accuracy_score"
      ],
      "metadata": {
        "id": "FhgE-fb4UK2N"
      },
      "execution_count": 5,
      "outputs": []
    },
    {
      "cell_type": "code",
      "source": [
        "# Dividir los datos en conjunto de entrenamiento y prueba\n",
        "X_train, X_test, y_train, y_test = train_test_split(X, y, test_size=0.3, random_state=42, stratify=y)\n",
        "\n",
        "# Escalar los datos\n",
        "scaler = StandardScaler()\n",
        "X_train = scaler.fit_transform(X_train)\n",
        "X_test = scaler.transform(X_test)\n",
        "\n",
        "# Ajustar las etiquetas de las clases para que comiencen desde 0\n",
        "y_train_adjusted = y_train - 1\n",
        "y_test_adjusted = y_test - 1"
      ],
      "metadata": {
        "id": "jfpdM0UMUnp-"
      },
      "execution_count": 6,
      "outputs": []
    },
    {
      "cell_type": "code",
      "source": [
        "# Crear el modelo XGBoost para clasificación\n",
        "model = XGBClassifier()\n",
        "# Entrenar el modelo\n",
        "model.fit(X_train, y_train_adjusted)"
      ],
      "metadata": {
        "colab": {
          "base_uri": "https://localhost:8080/",
          "height": 248
        },
        "id": "qs_V0-qfUna0",
        "outputId": "667c6df9-a34a-4a57-ca8c-842678e2c345"
      },
      "execution_count": 7,
      "outputs": [
        {
          "output_type": "execute_result",
          "data": {
            "text/plain": [
              "XGBClassifier(base_score=None, booster=None, callbacks=None,\n",
              "              colsample_bylevel=None, colsample_bynode=None,\n",
              "              colsample_bytree=None, device=None, early_stopping_rounds=None,\n",
              "              enable_categorical=False, eval_metric=None, feature_types=None,\n",
              "              gamma=None, grow_policy=None, importance_type=None,\n",
              "              interaction_constraints=None, learning_rate=None, max_bin=None,\n",
              "              max_cat_threshold=None, max_cat_to_onehot=None,\n",
              "              max_delta_step=None, max_depth=None, max_leaves=None,\n",
              "              min_child_weight=None, missing=nan, monotone_constraints=None,\n",
              "              multi_strategy=None, n_estimators=None, n_jobs=None,\n",
              "              num_parallel_tree=None, objective='multi:softprob', ...)"
            ],
            "text/html": [
              "<style>#sk-container-id-1 {color: black;}#sk-container-id-1 pre{padding: 0;}#sk-container-id-1 div.sk-toggleable {background-color: white;}#sk-container-id-1 label.sk-toggleable__label {cursor: pointer;display: block;width: 100%;margin-bottom: 0;padding: 0.3em;box-sizing: border-box;text-align: center;}#sk-container-id-1 label.sk-toggleable__label-arrow:before {content: \"▸\";float: left;margin-right: 0.25em;color: #696969;}#sk-container-id-1 label.sk-toggleable__label-arrow:hover:before {color: black;}#sk-container-id-1 div.sk-estimator:hover label.sk-toggleable__label-arrow:before {color: black;}#sk-container-id-1 div.sk-toggleable__content {max-height: 0;max-width: 0;overflow: hidden;text-align: left;background-color: #f0f8ff;}#sk-container-id-1 div.sk-toggleable__content pre {margin: 0.2em;color: black;border-radius: 0.25em;background-color: #f0f8ff;}#sk-container-id-1 input.sk-toggleable__control:checked~div.sk-toggleable__content {max-height: 200px;max-width: 100%;overflow: auto;}#sk-container-id-1 input.sk-toggleable__control:checked~label.sk-toggleable__label-arrow:before {content: \"▾\";}#sk-container-id-1 div.sk-estimator input.sk-toggleable__control:checked~label.sk-toggleable__label {background-color: #d4ebff;}#sk-container-id-1 div.sk-label input.sk-toggleable__control:checked~label.sk-toggleable__label {background-color: #d4ebff;}#sk-container-id-1 input.sk-hidden--visually {border: 0;clip: rect(1px 1px 1px 1px);clip: rect(1px, 1px, 1px, 1px);height: 1px;margin: -1px;overflow: hidden;padding: 0;position: absolute;width: 1px;}#sk-container-id-1 div.sk-estimator {font-family: monospace;background-color: #f0f8ff;border: 1px dotted black;border-radius: 0.25em;box-sizing: border-box;margin-bottom: 0.5em;}#sk-container-id-1 div.sk-estimator:hover {background-color: #d4ebff;}#sk-container-id-1 div.sk-parallel-item::after {content: \"\";width: 100%;border-bottom: 1px solid gray;flex-grow: 1;}#sk-container-id-1 div.sk-label:hover label.sk-toggleable__label {background-color: #d4ebff;}#sk-container-id-1 div.sk-serial::before {content: \"\";position: absolute;border-left: 1px solid gray;box-sizing: border-box;top: 0;bottom: 0;left: 50%;z-index: 0;}#sk-container-id-1 div.sk-serial {display: flex;flex-direction: column;align-items: center;background-color: white;padding-right: 0.2em;padding-left: 0.2em;position: relative;}#sk-container-id-1 div.sk-item {position: relative;z-index: 1;}#sk-container-id-1 div.sk-parallel {display: flex;align-items: stretch;justify-content: center;background-color: white;position: relative;}#sk-container-id-1 div.sk-item::before, #sk-container-id-1 div.sk-parallel-item::before {content: \"\";position: absolute;border-left: 1px solid gray;box-sizing: border-box;top: 0;bottom: 0;left: 50%;z-index: -1;}#sk-container-id-1 div.sk-parallel-item {display: flex;flex-direction: column;z-index: 1;position: relative;background-color: white;}#sk-container-id-1 div.sk-parallel-item:first-child::after {align-self: flex-end;width: 50%;}#sk-container-id-1 div.sk-parallel-item:last-child::after {align-self: flex-start;width: 50%;}#sk-container-id-1 div.sk-parallel-item:only-child::after {width: 0;}#sk-container-id-1 div.sk-dashed-wrapped {border: 1px dashed gray;margin: 0 0.4em 0.5em 0.4em;box-sizing: border-box;padding-bottom: 0.4em;background-color: white;}#sk-container-id-1 div.sk-label label {font-family: monospace;font-weight: bold;display: inline-block;line-height: 1.2em;}#sk-container-id-1 div.sk-label-container {text-align: center;}#sk-container-id-1 div.sk-container {/* jupyter's `normalize.less` sets `[hidden] { display: none; }` but bootstrap.min.css set `[hidden] { display: none !important; }` so we also need the `!important` here to be able to override the default hidden behavior on the sphinx rendered scikit-learn.org. See: https://github.com/scikit-learn/scikit-learn/issues/21755 */display: inline-block !important;position: relative;}#sk-container-id-1 div.sk-text-repr-fallback {display: none;}</style><div id=\"sk-container-id-1\" class=\"sk-top-container\"><div class=\"sk-text-repr-fallback\"><pre>XGBClassifier(base_score=None, booster=None, callbacks=None,\n",
              "              colsample_bylevel=None, colsample_bynode=None,\n",
              "              colsample_bytree=None, device=None, early_stopping_rounds=None,\n",
              "              enable_categorical=False, eval_metric=None, feature_types=None,\n",
              "              gamma=None, grow_policy=None, importance_type=None,\n",
              "              interaction_constraints=None, learning_rate=None, max_bin=None,\n",
              "              max_cat_threshold=None, max_cat_to_onehot=None,\n",
              "              max_delta_step=None, max_depth=None, max_leaves=None,\n",
              "              min_child_weight=None, missing=nan, monotone_constraints=None,\n",
              "              multi_strategy=None, n_estimators=None, n_jobs=None,\n",
              "              num_parallel_tree=None, objective=&#x27;multi:softprob&#x27;, ...)</pre><b>In a Jupyter environment, please rerun this cell to show the HTML representation or trust the notebook. <br />On GitHub, the HTML representation is unable to render, please try loading this page with nbviewer.org.</b></div><div class=\"sk-container\" hidden><div class=\"sk-item\"><div class=\"sk-estimator sk-toggleable\"><input class=\"sk-toggleable__control sk-hidden--visually\" id=\"sk-estimator-id-1\" type=\"checkbox\" checked><label for=\"sk-estimator-id-1\" class=\"sk-toggleable__label sk-toggleable__label-arrow\">XGBClassifier</label><div class=\"sk-toggleable__content\"><pre>XGBClassifier(base_score=None, booster=None, callbacks=None,\n",
              "              colsample_bylevel=None, colsample_bynode=None,\n",
              "              colsample_bytree=None, device=None, early_stopping_rounds=None,\n",
              "              enable_categorical=False, eval_metric=None, feature_types=None,\n",
              "              gamma=None, grow_policy=None, importance_type=None,\n",
              "              interaction_constraints=None, learning_rate=None, max_bin=None,\n",
              "              max_cat_threshold=None, max_cat_to_onehot=None,\n",
              "              max_delta_step=None, max_depth=None, max_leaves=None,\n",
              "              min_child_weight=None, missing=nan, monotone_constraints=None,\n",
              "              multi_strategy=None, n_estimators=None, n_jobs=None,\n",
              "              num_parallel_tree=None, objective=&#x27;multi:softprob&#x27;, ...)</pre></div></div></div></div></div>"
            ]
          },
          "metadata": {},
          "execution_count": 7
        }
      ]
    },
    {
      "cell_type": "code",
      "source": [
        "# Realizar predicciones\n",
        "y_pred_adjusted = model.predict(X_test)\n",
        "\n",
        "# Ajustar las predicciones de nuevo a las etiquetas originales\n",
        "y_pred = y_pred_adjusted + 1\n",
        "\n",
        "# Evaluar el rendimiento del modelo\n",
        "print(\"Accuracy:\", accuracy_score(y_test, y_pred))\n",
        "print(\"Classification Report:\\n\", classification_report(y_test, y_pred))"
      ],
      "metadata": {
        "colab": {
          "base_uri": "https://localhost:8080/"
        },
        "id": "81_ikxAzUmKW",
        "outputId": "02d7c667-615c-4079-c879-cf318133dc70"
      },
      "execution_count": 8,
      "outputs": [
        {
          "output_type": "stream",
          "name": "stdout",
          "text": [
            "Accuracy: 0.9454545454545454\n",
            "Classification Report:\n",
            "               precision    recall  f1-score   support\n",
            "\n",
            "           1       1.00      1.00      1.00        34\n",
            "           2       0.94      0.83      0.88        18\n",
            "           3       1.00      0.91      0.95        22\n",
            "           4       0.78      0.93      0.85        15\n",
            "           5       0.94      1.00      0.97        15\n",
            "           6       1.00      1.00      1.00         6\n",
            "\n",
            "    accuracy                           0.95       110\n",
            "   macro avg       0.94      0.95      0.94       110\n",
            "weighted avg       0.95      0.95      0.95       110\n",
            "\n"
          ]
        }
      ]
    },
    {
      "cell_type": "markdown",
      "source": [
        "*Accuracy para el Modelo Inicial es de :* **0.945**"
      ],
      "metadata": {
        "id": "rehAa8IyWJZv"
      }
    },
    {
      "cell_type": "markdown",
      "source": [
        "## Modelo con ajuste de hiperparámetros (beyesian optimization)"
      ],
      "metadata": {
        "id": "2DBXoMnUUHkl"
      }
    },
    {
      "cell_type": "code",
      "source": [
        "from bayes_opt import BayesianOptimization\n",
        "from xgboost import XGBClassifier\n",
        "from sklearn.model_selection import cross_val_score\n",
        "from sklearn.preprocessing import StandardScaler\n",
        "from sklearn.model_selection import train_test_split\n",
        "from sklearn.metrics import accuracy_score"
      ],
      "metadata": {
        "id": "3m-FdC9RUlsr"
      },
      "execution_count": 9,
      "outputs": []
    },
    {
      "cell_type": "code",
      "source": [
        "# Definir la función objetivo para la optimización bayesiana\n",
        "def xgb_evaluate(max_depth, learning_rate, n_estimators, gamma, min_child_weight, subsample, colsample_bytree):\n",
        "    model = XGBClassifier(\n",
        "        max_depth=int(max_depth),\n",
        "        learning_rate=learning_rate,\n",
        "        n_estimators=int(n_estimators),\n",
        "        gamma=gamma,\n",
        "        min_child_weight=min_child_weight,\n",
        "        subsample=subsample,\n",
        "        colsample_bytree=colsample_bytree,\n",
        "        eval_metric='mlogloss',\n",
        "        random_state=42\n",
        "    )\n",
        "\n",
        "    cv_scores = cross_val_score(model, X_train, y_train_adjusted, cv=5, scoring='accuracy')\n",
        "    return cv_scores.mean()\n",
        "\n",
        "# Definir el espacio de búsqueda para los hiperparámetros\n",
        "param_bounds = {\n",
        "    'max_depth': (3, 10),\n",
        "    'learning_rate': (0.01, 0.3),\n",
        "    'n_estimators': (50, 300),\n",
        "    'gamma': (0, 5),\n",
        "    'min_child_weight': (1, 10),\n",
        "    'subsample': (0.5, 1),\n",
        "    'colsample_bytree': (0.5, 1)\n",
        "}\n",
        "\n",
        "# Realizar la optimización bayesiana\n",
        "optimizer = BayesianOptimization(\n",
        "    f=xgb_evaluate,\n",
        "    pbounds=param_bounds,\n",
        "    random_state=42,\n",
        "    verbose=2\n",
        ")\n",
        "\n",
        "optimizer.maximize(init_points=10, n_iter=30)\n",
        "\n",
        "# Obtener los mejores hiperparámetros\n",
        "best_params = optimizer.max['params']\n",
        "best_params['max_depth'] = int(best_params['max_depth'])\n",
        "best_params['n_estimators'] = int(best_params['n_estimators'])"
      ],
      "metadata": {
        "colab": {
          "base_uri": "https://localhost:8080/"
        },
        "id": "7YB23sCmX6y1",
        "outputId": "b16c6db2-7101-4bd6-bceb-f611a77650f6"
      },
      "execution_count": 21,
      "outputs": [
        {
          "output_type": "stream",
          "name": "stdout",
          "text": [
            "|   iter    |  target   | colsam... |   gamma   | learni... | max_depth | min_ch... | n_esti... | subsample |\n",
            "-------------------------------------------------------------------------------------------------------------\n",
            "| \u001b[39m1        \u001b[39m | \u001b[39m0.9726   \u001b[39m | \u001b[39m0.6873   \u001b[39m | \u001b[39m4.754    \u001b[39m | \u001b[39m0.2223   \u001b[39m | \u001b[39m7.191    \u001b[39m | \u001b[39m2.404    \u001b[39m | \u001b[39m89.0     \u001b[39m | \u001b[39m0.529    \u001b[39m |\n",
            "| \u001b[39m2        \u001b[39m | \u001b[39m0.9336   \u001b[39m | \u001b[39m0.9331   \u001b[39m | \u001b[39m3.006    \u001b[39m | \u001b[39m0.2153   \u001b[39m | \u001b[39m3.144    \u001b[39m | \u001b[39m9.729    \u001b[39m | \u001b[39m258.1    \u001b[39m | \u001b[39m0.6062   \u001b[39m |\n",
            "| \u001b[35m3        \u001b[39m | \u001b[35m0.9804   \u001b[39m | \u001b[35m0.5909   \u001b[39m | \u001b[35m0.917    \u001b[39m | \u001b[35m0.09823  \u001b[39m | \u001b[35m6.673    \u001b[39m | \u001b[35m4.888    \u001b[39m | \u001b[35m122.8    \u001b[39m | \u001b[35m0.8059   \u001b[39m |\n",
            "| \u001b[39m4        \u001b[39m | \u001b[39m0.9531   \u001b[39m | \u001b[39m0.5697   \u001b[39m | \u001b[39m1.461    \u001b[39m | \u001b[39m0.1162   \u001b[39m | \u001b[39m6.192    \u001b[39m | \u001b[39m8.067    \u001b[39m | \u001b[39m99.92    \u001b[39m | \u001b[39m0.7571   \u001b[39m |\n",
            "| \u001b[39m5        \u001b[39m | \u001b[39m0.9765   \u001b[39m | \u001b[39m0.7962   \u001b[39m | \u001b[39m0.2323   \u001b[39m | \u001b[39m0.1862   \u001b[39m | \u001b[39m4.194    \u001b[39m | \u001b[39m1.585    \u001b[39m | \u001b[39m287.2    \u001b[39m | \u001b[39m0.9828   \u001b[39m |\n",
            "| \u001b[39m6        \u001b[39m | \u001b[39m0.9804   \u001b[39m | \u001b[39m0.9042   \u001b[39m | \u001b[39m1.523    \u001b[39m | \u001b[39m0.03832  \u001b[39m | \u001b[39m7.79     \u001b[39m | \u001b[39m4.961    \u001b[39m | \u001b[39m80.51    \u001b[39m | \u001b[39m0.7476   \u001b[39m |\n",
            "| \u001b[39m7        \u001b[39m | \u001b[39m0.9804   \u001b[39m | \u001b[39m0.5172   \u001b[39m | \u001b[39m4.547    \u001b[39m | \u001b[39m0.08505  \u001b[39m | \u001b[39m7.638    \u001b[39m | \u001b[39m3.805    \u001b[39m | \u001b[39m180.0    \u001b[39m | \u001b[39m0.7734   \u001b[39m |\n",
            "| \u001b[39m8        \u001b[39m | \u001b[39m0.9609   \u001b[39m | \u001b[39m0.5924   \u001b[39m | \u001b[39m4.848    \u001b[39m | \u001b[39m0.2348   \u001b[39m | \u001b[39m9.576    \u001b[39m | \u001b[39m9.053    \u001b[39m | \u001b[39m199.5    \u001b[39m | \u001b[39m0.9609   \u001b[39m |\n",
            "| \u001b[39m9        \u001b[39m | \u001b[39m0.9804   \u001b[39m | \u001b[39m0.5442   \u001b[39m | \u001b[39m0.9799   \u001b[39m | \u001b[39m0.02312  \u001b[39m | \u001b[39m5.277    \u001b[39m | \u001b[39m4.498    \u001b[39m | \u001b[39m117.8    \u001b[39m | \u001b[39m0.9144   \u001b[39m |\n",
            "| \u001b[39m10       \u001b[39m | \u001b[39m0.9726   \u001b[39m | \u001b[39m0.6784   \u001b[39m | \u001b[39m1.405    \u001b[39m | \u001b[39m0.1674   \u001b[39m | \u001b[39m3.986    \u001b[39m | \u001b[39m8.22     \u001b[39m | \u001b[39m68.64    \u001b[39m | \u001b[39m0.9934   \u001b[39m |\n",
            "| \u001b[39m11       \u001b[39m | \u001b[39m0.9765   \u001b[39m | \u001b[39m0.5934   \u001b[39m | \u001b[39m3.098    \u001b[39m | \u001b[39m0.276    \u001b[39m | \u001b[39m6.246    \u001b[39m | \u001b[39m1.932    \u001b[39m | \u001b[39m164.5    \u001b[39m | \u001b[39m0.6879   \u001b[39m |\n",
            "| \u001b[39m12       \u001b[39m | \u001b[39m0.9765   \u001b[39m | \u001b[39m0.5      \u001b[39m | \u001b[39m0.0      \u001b[39m | \u001b[39m0.01     \u001b[39m | \u001b[39m3.0      \u001b[39m | \u001b[39m1.0      \u001b[39m | \u001b[39m142.4    \u001b[39m | \u001b[39m1.0      \u001b[39m |\n",
            "| \u001b[39m13       \u001b[39m | \u001b[39m0.9492   \u001b[39m | \u001b[39m0.5      \u001b[39m | \u001b[39m5.0      \u001b[39m | \u001b[39m0.01     \u001b[39m | \u001b[39m10.0     \u001b[39m | \u001b[39m10.0     \u001b[39m | \u001b[39m300.0    \u001b[39m | \u001b[39m1.0      \u001b[39m |\n",
            "| \u001b[39m14       \u001b[39m | \u001b[39m0.8557   \u001b[39m | \u001b[39m1.0      \u001b[39m | \u001b[39m0.0      \u001b[39m | \u001b[39m0.01     \u001b[39m | \u001b[39m3.0      \u001b[39m | \u001b[39m10.0     \u001b[39m | \u001b[39m173.4    \u001b[39m | \u001b[39m0.5      \u001b[39m |\n",
            "| \u001b[39m15       \u001b[39m | \u001b[39m0.9804   \u001b[39m | \u001b[39m0.7466   \u001b[39m | \u001b[39m3.269    \u001b[39m | \u001b[39m0.2233   \u001b[39m | \u001b[39m3.0      \u001b[39m | \u001b[39m1.0      \u001b[39m | \u001b[39m121.5    \u001b[39m | \u001b[39m0.659    \u001b[39m |\n",
            "| \u001b[39m16       \u001b[39m | \u001b[39m0.9765   \u001b[39m | \u001b[39m0.5      \u001b[39m | \u001b[39m5.0      \u001b[39m | \u001b[39m0.2122   \u001b[39m | \u001b[39m10.0     \u001b[39m | \u001b[39m1.0      \u001b[39m | \u001b[39m185.7    \u001b[39m | \u001b[39m0.9914   \u001b[39m |\n",
            "| \u001b[39m17       \u001b[39m | \u001b[39m0.9804   \u001b[39m | \u001b[39m0.602    \u001b[39m | \u001b[39m0.9392   \u001b[39m | \u001b[39m0.03907  \u001b[39m | \u001b[39m3.0      \u001b[39m | \u001b[39m1.494    \u001b[39m | \u001b[39m131.2    \u001b[39m | \u001b[39m0.949    \u001b[39m |\n",
            "| \u001b[39m18       \u001b[39m | \u001b[39m0.9375   \u001b[39m | \u001b[39m1.0      \u001b[39m | \u001b[39m5.0      \u001b[39m | \u001b[39m0.3      \u001b[39m | \u001b[39m3.0      \u001b[39m | \u001b[39m9.095    \u001b[39m | \u001b[39m128.5    \u001b[39m | \u001b[39m0.7129   \u001b[39m |\n",
            "| \u001b[39m19       \u001b[39m | \u001b[39m0.9765   \u001b[39m | \u001b[39m0.8864   \u001b[39m | \u001b[39m4.869    \u001b[39m | \u001b[39m0.06074  \u001b[39m | \u001b[39m10.0     \u001b[39m | \u001b[39m1.0      \u001b[39m | \u001b[39m119.6    \u001b[39m | \u001b[39m1.0      \u001b[39m |\n",
            "| \u001b[39m20       \u001b[39m | \u001b[39m0.9765   \u001b[39m | \u001b[39m0.5      \u001b[39m | \u001b[39m0.0      \u001b[39m | \u001b[39m0.01     \u001b[39m | \u001b[39m9.776    \u001b[39m | \u001b[39m1.0      \u001b[39m | \u001b[39m135.6    \u001b[39m | \u001b[39m1.0      \u001b[39m |\n",
            "| \u001b[39m21       \u001b[39m | \u001b[39m0.9687   \u001b[39m | \u001b[39m0.5      \u001b[39m | \u001b[39m3.179    \u001b[39m | \u001b[39m0.3      \u001b[39m | \u001b[39m6.465    \u001b[39m | \u001b[39m1.0      \u001b[39m | \u001b[39m155.2    \u001b[39m | \u001b[39m0.8388   \u001b[39m |\n",
            "| \u001b[39m22       \u001b[39m | \u001b[39m0.9609   \u001b[39m | \u001b[39m0.5      \u001b[39m | \u001b[39m5.0      \u001b[39m | \u001b[39m0.3      \u001b[39m | \u001b[39m3.0      \u001b[39m | \u001b[39m1.0      \u001b[39m | \u001b[39m76.0     \u001b[39m | \u001b[39m0.5      \u001b[39m |\n",
            "| \u001b[39m23       \u001b[39m | \u001b[39m0.9765   \u001b[39m | \u001b[39m0.5      \u001b[39m | \u001b[39m0.0      \u001b[39m | \u001b[39m0.01     \u001b[39m | \u001b[39m10.0     \u001b[39m | \u001b[39m1.0      \u001b[39m | \u001b[39m127.3    \u001b[39m | \u001b[39m1.0      \u001b[39m |\n",
            "| \u001b[39m24       \u001b[39m | \u001b[39m0.9765   \u001b[39m | \u001b[39m0.7467   \u001b[39m | \u001b[39m4.732    \u001b[39m | \u001b[39m0.01892  \u001b[39m | \u001b[39m8.758    \u001b[39m | \u001b[39m1.0      \u001b[39m | \u001b[39m279.4    \u001b[39m | \u001b[39m0.6959   \u001b[39m |\n",
            "| \u001b[39m25       \u001b[39m | \u001b[39m0.9025   \u001b[39m | \u001b[39m0.5      \u001b[39m | \u001b[39m0.0      \u001b[39m | \u001b[39m0.3      \u001b[39m | \u001b[39m4.239    \u001b[39m | \u001b[39m9.085    \u001b[39m | \u001b[39m280.3    \u001b[39m | \u001b[39m0.5      \u001b[39m |\n",
            "| \u001b[39m26       \u001b[39m | \u001b[39m0.9336   \u001b[39m | \u001b[39m0.7723   \u001b[39m | \u001b[39m0.0      \u001b[39m | \u001b[39m0.1251   \u001b[39m | \u001b[39m3.0      \u001b[39m | \u001b[39m10.0     \u001b[39m | \u001b[39m84.17    \u001b[39m | \u001b[39m0.6691   \u001b[39m |\n",
            "| \u001b[39m27       \u001b[39m | \u001b[39m0.9804   \u001b[39m | \u001b[39m0.5      \u001b[39m | \u001b[39m5.0      \u001b[39m | \u001b[39m0.01     \u001b[39m | \u001b[39m4.243    \u001b[39m | \u001b[39m1.0      \u001b[39m | \u001b[39m137.2    \u001b[39m | \u001b[39m0.5      \u001b[39m |\n",
            "| \u001b[39m28       \u001b[39m | \u001b[39m0.9688   \u001b[39m | \u001b[39m1.0      \u001b[39m | \u001b[39m5.0      \u001b[39m | \u001b[39m0.3      \u001b[39m | \u001b[39m10.0     \u001b[39m | \u001b[39m1.0      \u001b[39m | \u001b[39m143.5    \u001b[39m | \u001b[39m0.5      \u001b[39m |\n",
            "| \u001b[39m29       \u001b[39m | \u001b[39m0.961    \u001b[39m | \u001b[39m1.0      \u001b[39m | \u001b[39m0.0      \u001b[39m | \u001b[39m0.01     \u001b[39m | \u001b[39m10.0     \u001b[39m | \u001b[39m4.118    \u001b[39m | \u001b[39m73.68    \u001b[39m | \u001b[39m1.0      \u001b[39m |\n",
            "| \u001b[39m30       \u001b[39m | \u001b[39m0.9765   \u001b[39m | \u001b[39m1.0      \u001b[39m | \u001b[39m5.0      \u001b[39m | \u001b[39m0.01     \u001b[39m | \u001b[39m10.0     \u001b[39m | \u001b[39m1.0      \u001b[39m | \u001b[39m288.1    \u001b[39m | \u001b[39m1.0      \u001b[39m |\n",
            "| \u001b[39m31       \u001b[39m | \u001b[39m0.9727   \u001b[39m | \u001b[39m1.0      \u001b[39m | \u001b[39m5.0      \u001b[39m | \u001b[39m0.01     \u001b[39m | \u001b[39m3.0      \u001b[39m | \u001b[39m1.0      \u001b[39m | \u001b[39m293.6    \u001b[39m | \u001b[39m0.5      \u001b[39m |\n",
            "| \u001b[39m32       \u001b[39m | \u001b[39m0.9727   \u001b[39m | \u001b[39m1.0      \u001b[39m | \u001b[39m5.0      \u001b[39m | \u001b[39m0.1533   \u001b[39m | \u001b[39m3.0      \u001b[39m | \u001b[39m3.121    \u001b[39m | \u001b[39m187.1    \u001b[39m | \u001b[39m0.5      \u001b[39m |\n",
            "| \u001b[39m33       \u001b[39m | \u001b[39m0.9727   \u001b[39m | \u001b[39m1.0      \u001b[39m | \u001b[39m0.0      \u001b[39m | \u001b[39m0.3      \u001b[39m | \u001b[39m10.0     \u001b[39m | \u001b[39m1.0      \u001b[39m | \u001b[39m84.22    \u001b[39m | \u001b[39m0.5      \u001b[39m |\n",
            "| \u001b[39m34       \u001b[39m | \u001b[39m0.91     \u001b[39m | \u001b[39m0.8044   \u001b[39m | \u001b[39m4.589    \u001b[39m | \u001b[39m0.1895   \u001b[39m | \u001b[39m3.218    \u001b[39m | \u001b[39m9.149    \u001b[39m | \u001b[39m57.87    \u001b[39m | \u001b[39m0.5187   \u001b[39m |\n",
            "| \u001b[39m35       \u001b[39m | \u001b[39m0.9804   \u001b[39m | \u001b[39m0.5      \u001b[39m | \u001b[39m5.0      \u001b[39m | \u001b[39m0.01     \u001b[39m | \u001b[39m3.0      \u001b[39m | \u001b[39m1.0      \u001b[39m | \u001b[39m111.3    \u001b[39m | \u001b[39m0.5      \u001b[39m |\n",
            "| \u001b[39m36       \u001b[39m | \u001b[39m0.9765   \u001b[39m | \u001b[39m1.0      \u001b[39m | \u001b[39m0.0      \u001b[39m | \u001b[39m0.3      \u001b[39m | \u001b[39m10.0     \u001b[39m | \u001b[39m1.0      \u001b[39m | \u001b[39m111.0    \u001b[39m | \u001b[39m0.5      \u001b[39m |\n",
            "| \u001b[39m37       \u001b[39m | \u001b[39m0.8869   \u001b[39m | \u001b[39m0.5      \u001b[39m | \u001b[39m5.0      \u001b[39m | \u001b[39m0.3      \u001b[39m | \u001b[39m10.0     \u001b[39m | \u001b[39m9.554    \u001b[39m | \u001b[39m113.0    \u001b[39m | \u001b[39m0.5      \u001b[39m |\n",
            "| \u001b[39m38       \u001b[39m | \u001b[39m0.957    \u001b[39m | \u001b[39m0.5      \u001b[39m | \u001b[39m5.0      \u001b[39m | \u001b[39m0.3      \u001b[39m | \u001b[39m10.0     \u001b[39m | \u001b[39m9.143    \u001b[39m | \u001b[39m186.5    \u001b[39m | \u001b[39m1.0      \u001b[39m |\n",
            "| \u001b[39m39       \u001b[39m | \u001b[39m0.9726   \u001b[39m | \u001b[39m1.0      \u001b[39m | \u001b[39m0.0      \u001b[39m | \u001b[39m0.01     \u001b[39m | \u001b[39m3.0      \u001b[39m | \u001b[39m1.0      \u001b[39m | \u001b[39m114.2    \u001b[39m | \u001b[39m1.0      \u001b[39m |\n",
            "| \u001b[39m40       \u001b[39m | \u001b[39m0.9452   \u001b[39m | \u001b[39m0.5      \u001b[39m | \u001b[39m0.0      \u001b[39m | \u001b[39m0.01     \u001b[39m | \u001b[39m6.557    \u001b[39m | \u001b[39m8.801    \u001b[39m | \u001b[39m141.0    \u001b[39m | \u001b[39m0.7918   \u001b[39m |\n",
            "=============================================================================================================\n"
          ]
        }
      ]
    },
    {
      "cell_type": "code",
      "source": [
        "# Crear el modelo XGBoost para clasificación\n",
        "model = XGBClassifier(\n",
        "    **best_params,\n",
        "    random_state=42\n",
        ")\n",
        "# Entrenar el modelo\n",
        "model.fit(X_train, y_train_adjusted)"
      ],
      "metadata": {
        "colab": {
          "base_uri": "https://localhost:8080/",
          "height": 252
        },
        "id": "jCMFD0g5bjcw",
        "outputId": "14f5a36c-32a0-4b67-dfd4-25216b2df1e0"
      },
      "execution_count": 22,
      "outputs": [
        {
          "output_type": "execute_result",
          "data": {
            "text/plain": [
              "XGBClassifier(base_score=None, booster=None, callbacks=None,\n",
              "              colsample_bylevel=None, colsample_bynode=None,\n",
              "              colsample_bytree=0.5909124836035503, device=None,\n",
              "              early_stopping_rounds=None, enable_categorical=False,\n",
              "              eval_metric=None, feature_types=None, gamma=0.9170225492671691,\n",
              "              grow_policy=None, importance_type=None,\n",
              "              interaction_constraints=None, learning_rate=0.09823025045826593,\n",
              "              max_bin=None, max_cat_threshold=None, max_cat_to_onehot=None,\n",
              "              max_delta_step=None, max_depth=6, max_leaves=None,\n",
              "              min_child_weight=4.887505167779041, missing=nan,\n",
              "              monotone_constraints=None, multi_strategy=None, n_estimators=122,\n",
              "              n_jobs=None, num_parallel_tree=None, objective='multi:softprob', ...)"
            ],
            "text/html": [
              "<style>#sk-container-id-2 {color: black;}#sk-container-id-2 pre{padding: 0;}#sk-container-id-2 div.sk-toggleable {background-color: white;}#sk-container-id-2 label.sk-toggleable__label {cursor: pointer;display: block;width: 100%;margin-bottom: 0;padding: 0.3em;box-sizing: border-box;text-align: center;}#sk-container-id-2 label.sk-toggleable__label-arrow:before {content: \"▸\";float: left;margin-right: 0.25em;color: #696969;}#sk-container-id-2 label.sk-toggleable__label-arrow:hover:before {color: black;}#sk-container-id-2 div.sk-estimator:hover label.sk-toggleable__label-arrow:before {color: black;}#sk-container-id-2 div.sk-toggleable__content {max-height: 0;max-width: 0;overflow: hidden;text-align: left;background-color: #f0f8ff;}#sk-container-id-2 div.sk-toggleable__content pre {margin: 0.2em;color: black;border-radius: 0.25em;background-color: #f0f8ff;}#sk-container-id-2 input.sk-toggleable__control:checked~div.sk-toggleable__content {max-height: 200px;max-width: 100%;overflow: auto;}#sk-container-id-2 input.sk-toggleable__control:checked~label.sk-toggleable__label-arrow:before {content: \"▾\";}#sk-container-id-2 div.sk-estimator input.sk-toggleable__control:checked~label.sk-toggleable__label {background-color: #d4ebff;}#sk-container-id-2 div.sk-label input.sk-toggleable__control:checked~label.sk-toggleable__label {background-color: #d4ebff;}#sk-container-id-2 input.sk-hidden--visually {border: 0;clip: rect(1px 1px 1px 1px);clip: rect(1px, 1px, 1px, 1px);height: 1px;margin: -1px;overflow: hidden;padding: 0;position: absolute;width: 1px;}#sk-container-id-2 div.sk-estimator {font-family: monospace;background-color: #f0f8ff;border: 1px dotted black;border-radius: 0.25em;box-sizing: border-box;margin-bottom: 0.5em;}#sk-container-id-2 div.sk-estimator:hover {background-color: #d4ebff;}#sk-container-id-2 div.sk-parallel-item::after {content: \"\";width: 100%;border-bottom: 1px solid gray;flex-grow: 1;}#sk-container-id-2 div.sk-label:hover label.sk-toggleable__label {background-color: #d4ebff;}#sk-container-id-2 div.sk-serial::before {content: \"\";position: absolute;border-left: 1px solid gray;box-sizing: border-box;top: 0;bottom: 0;left: 50%;z-index: 0;}#sk-container-id-2 div.sk-serial {display: flex;flex-direction: column;align-items: center;background-color: white;padding-right: 0.2em;padding-left: 0.2em;position: relative;}#sk-container-id-2 div.sk-item {position: relative;z-index: 1;}#sk-container-id-2 div.sk-parallel {display: flex;align-items: stretch;justify-content: center;background-color: white;position: relative;}#sk-container-id-2 div.sk-item::before, #sk-container-id-2 div.sk-parallel-item::before {content: \"\";position: absolute;border-left: 1px solid gray;box-sizing: border-box;top: 0;bottom: 0;left: 50%;z-index: -1;}#sk-container-id-2 div.sk-parallel-item {display: flex;flex-direction: column;z-index: 1;position: relative;background-color: white;}#sk-container-id-2 div.sk-parallel-item:first-child::after {align-self: flex-end;width: 50%;}#sk-container-id-2 div.sk-parallel-item:last-child::after {align-self: flex-start;width: 50%;}#sk-container-id-2 div.sk-parallel-item:only-child::after {width: 0;}#sk-container-id-2 div.sk-dashed-wrapped {border: 1px dashed gray;margin: 0 0.4em 0.5em 0.4em;box-sizing: border-box;padding-bottom: 0.4em;background-color: white;}#sk-container-id-2 div.sk-label label {font-family: monospace;font-weight: bold;display: inline-block;line-height: 1.2em;}#sk-container-id-2 div.sk-label-container {text-align: center;}#sk-container-id-2 div.sk-container {/* jupyter's `normalize.less` sets `[hidden] { display: none; }` but bootstrap.min.css set `[hidden] { display: none !important; }` so we also need the `!important` here to be able to override the default hidden behavior on the sphinx rendered scikit-learn.org. See: https://github.com/scikit-learn/scikit-learn/issues/21755 */display: inline-block !important;position: relative;}#sk-container-id-2 div.sk-text-repr-fallback {display: none;}</style><div id=\"sk-container-id-2\" class=\"sk-top-container\"><div class=\"sk-text-repr-fallback\"><pre>XGBClassifier(base_score=None, booster=None, callbacks=None,\n",
              "              colsample_bylevel=None, colsample_bynode=None,\n",
              "              colsample_bytree=0.5909124836035503, device=None,\n",
              "              early_stopping_rounds=None, enable_categorical=False,\n",
              "              eval_metric=None, feature_types=None, gamma=0.9170225492671691,\n",
              "              grow_policy=None, importance_type=None,\n",
              "              interaction_constraints=None, learning_rate=0.09823025045826593,\n",
              "              max_bin=None, max_cat_threshold=None, max_cat_to_onehot=None,\n",
              "              max_delta_step=None, max_depth=6, max_leaves=None,\n",
              "              min_child_weight=4.887505167779041, missing=nan,\n",
              "              monotone_constraints=None, multi_strategy=None, n_estimators=122,\n",
              "              n_jobs=None, num_parallel_tree=None, objective=&#x27;multi:softprob&#x27;, ...)</pre><b>In a Jupyter environment, please rerun this cell to show the HTML representation or trust the notebook. <br />On GitHub, the HTML representation is unable to render, please try loading this page with nbviewer.org.</b></div><div class=\"sk-container\" hidden><div class=\"sk-item\"><div class=\"sk-estimator sk-toggleable\"><input class=\"sk-toggleable__control sk-hidden--visually\" id=\"sk-estimator-id-2\" type=\"checkbox\" checked><label for=\"sk-estimator-id-2\" class=\"sk-toggleable__label sk-toggleable__label-arrow\">XGBClassifier</label><div class=\"sk-toggleable__content\"><pre>XGBClassifier(base_score=None, booster=None, callbacks=None,\n",
              "              colsample_bylevel=None, colsample_bynode=None,\n",
              "              colsample_bytree=0.5909124836035503, device=None,\n",
              "              early_stopping_rounds=None, enable_categorical=False,\n",
              "              eval_metric=None, feature_types=None, gamma=0.9170225492671691,\n",
              "              grow_policy=None, importance_type=None,\n",
              "              interaction_constraints=None, learning_rate=0.09823025045826593,\n",
              "              max_bin=None, max_cat_threshold=None, max_cat_to_onehot=None,\n",
              "              max_delta_step=None, max_depth=6, max_leaves=None,\n",
              "              min_child_weight=4.887505167779041, missing=nan,\n",
              "              monotone_constraints=None, multi_strategy=None, n_estimators=122,\n",
              "              n_jobs=None, num_parallel_tree=None, objective=&#x27;multi:softprob&#x27;, ...)</pre></div></div></div></div></div>"
            ]
          },
          "metadata": {},
          "execution_count": 22
        }
      ]
    },
    {
      "cell_type": "code",
      "source": [
        "# Realizar predicciones y evaluar el modelo\n",
        "y_pred = model.predict(X_test)\n",
        "accuracy = accuracy_score(y_test, y_pred + 1)\n",
        "\n",
        "print(\"Accuracy después de la optimización:\", accuracy)"
      ],
      "metadata": {
        "colab": {
          "base_uri": "https://localhost:8080/"
        },
        "id": "YPYDkc_8bobc",
        "outputId": "20fea344-77c1-42e1-b659-7170c9d23fc8"
      },
      "execution_count": 23,
      "outputs": [
        {
          "output_type": "stream",
          "name": "stdout",
          "text": [
            "Accuracy después de la optimización: 0.9636363636363636\n"
          ]
        }
      ]
    },
    {
      "cell_type": "markdown",
      "source": [
        "*Accuracy para el Modelo con ajuste de hiperparámetros es de :* **0.963**"
      ],
      "metadata": {
        "id": "w1usvZyUbueJ"
      }
    }
  ]
}